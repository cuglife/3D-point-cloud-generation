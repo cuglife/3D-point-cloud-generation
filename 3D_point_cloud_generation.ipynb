{
  "nbformat": 4,
  "nbformat_minor": 0,
  "metadata": {
    "colab": {
      "name": "3D-point-cloud-generation.ipynb",
      "provenance": []
    },
    "kernelspec": {
      "name": "python3",
      "display_name": "Python 3"
    },
    "language_info": {
      "name": "python"
    }
  },
  "cells": [
    {
      "cell_type": "code",
      "metadata": {
        "colab": {
          "base_uri": "https://localhost:8080/"
        },
        "id": "suWseDB0JANQ",
        "outputId": "205b69fe-646b-46d0-bc05-48606ca277d6"
      },
      "source": [
        "!python -V"
      ],
      "execution_count": 8,
      "outputs": [
        {
          "output_type": "stream",
          "text": [
            "Python 3.7.10\n"
          ],
          "name": "stdout"
        }
      ]
    },
    {
      "cell_type": "code",
      "metadata": {
        "colab": {
          "base_uri": "https://localhost:8080/"
        },
        "id": "xo_Z6g92NCBN",
        "outputId": "0096afb1-0013-47fe-e53e-d00901921a65"
      },
      "source": [
        "%tensorflow_version 1.x"
      ],
      "execution_count": 1,
      "outputs": [
        {
          "output_type": "stream",
          "text": [
            "TensorFlow 1.x selected.\n"
          ],
          "name": "stdout"
        }
      ]
    },
    {
      "cell_type": "code",
      "metadata": {
        "id": "aF9pLEysNbkE"
      },
      "source": [
        "import os\n",
        "os.kill(os.getpid(), 9)"
      ],
      "execution_count": null,
      "outputs": []
    },
    {
      "cell_type": "code",
      "metadata": {
        "colab": {
          "base_uri": "https://localhost:8080/"
        },
        "id": "P9_u4d3oNNc6",
        "outputId": "de7b7d17-805b-4453-c057-24f05563d262"
      },
      "source": [
        "import tensorflow\n",
        "print(tensorflow.__version__)"
      ],
      "execution_count": 2,
      "outputs": [
        {
          "output_type": "stream",
          "text": [
            "1.15.2\n"
          ],
          "name": "stdout"
        }
      ]
    },
    {
      "cell_type": "code",
      "metadata": {
        "colab": {
          "base_uri": "https://localhost:8080/",
          "height": 35
        },
        "id": "Z9CHjdfkJIeY",
        "outputId": "27b99c62-1044-499f-c553-09722ce8176d"
      },
      "source": [
        "import tensorflow as tf\n",
        "tf.test.gpu_device_name()"
      ],
      "execution_count": 5,
      "outputs": [
        {
          "output_type": "execute_result",
          "data": {
            "application/vnd.google.colaboratory.intrinsic+json": {
              "type": "string"
            },
            "text/plain": [
              "''"
            ]
          },
          "metadata": {
            "tags": []
          },
          "execution_count": 5
        }
      ]
    },
    {
      "cell_type": "code",
      "metadata": {
        "colab": {
          "base_uri": "https://localhost:8080/"
        },
        "id": "EufjjUW2I_Or",
        "outputId": "26b7d067-84bf-4800-fbba-048ad4ff8ec9"
      },
      "source": [
        "!wget https://cmu.box.com/shared/static/s4lkm5ej7sh4px72vesr17b1gxam4hgy.gz"
      ],
      "execution_count": 3,
      "outputs": [
        {
          "output_type": "stream",
          "text": [
            "--2021-03-25 11:29:37--  https://cmu.box.com/shared/static/s4lkm5ej7sh4px72vesr17b1gxam4hgy.gz\n",
            "Resolving cmu.box.com (cmu.box.com)... 107.152.26.197\n",
            "Connecting to cmu.box.com (cmu.box.com)|107.152.26.197|:443... connected.\n",
            "HTTP request sent, awaiting response... 301 Moved Permanently\n",
            "Location: /public/static/s4lkm5ej7sh4px72vesr17b1gxam4hgy.gz [following]\n",
            "--2021-03-25 11:29:38--  https://cmu.box.com/public/static/s4lkm5ej7sh4px72vesr17b1gxam4hgy.gz\n",
            "Reusing existing connection to cmu.box.com:443.\n",
            "HTTP request sent, awaiting response... 301 Moved Permanently\n",
            "Location: https://cmu.app.box.com/public/static/s4lkm5ej7sh4px72vesr17b1gxam4hgy.gz [following]\n",
            "--2021-03-25 11:29:38--  https://cmu.app.box.com/public/static/s4lkm5ej7sh4px72vesr17b1gxam4hgy.gz\n",
            "Resolving cmu.app.box.com (cmu.app.box.com)... 107.152.26.201\n",
            "Connecting to cmu.app.box.com (cmu.app.box.com)|107.152.26.201|:443... connected.\n",
            "HTTP request sent, awaiting response... 302 Found\n",
            "Location: https://public.boxcloud.com/d/1/b1!WNXtAQ9rfHz_U5mqLtapzdDzNutTPzE10AuVBSNAykdEry11CdUTJ0KriQcDebkfsf-9GsCH6TwZoQhc3JGh7rBtsl_gBRetiV6WdKyP0UYmmQQOjrPciVMLeR0B1_2boCJlwSWzfkycnbUiXb55jHtZbjX5FBJWXYVBpQW0aJUhB7dFvro82-pZBVReuVA43xoKoLeQotE1wv62X3H_iJt_VjogN9PdNTRbEfvqDHkICPP_N46_3SFQSGHZU6EtdmxajKCT1uIpcuCa2x0NaratkrCwYHFMZHEbPZndKmlF-_3KUbzhWuAmEKUZBWgTSNMdmbND96DGGDYOSRM0ICTSNsu9hRnI0btQY5MhEAbHOOTbZjr1JdRe-xQyv3AKdtYipzZQAWToXJkGaVf8uLqJpV_SfLoLDeof0mGHbCIubSCUc3hz_ThgmlHBfcuzvGxgCjR9HrpbDxkQrrdudoSeDHxSOn2fcDoxZW1BN6nXyFydi7QMdBPBAQOO-e6gGtqlN6I-ak5kcpgRTDYhxUrXUTQ8lmUuSrCfihLGlidA9IPvevW0tKWJeChgIePskswuat-CUYxmVLuyc6cGDTRV4jnO5ngI1Kh9DZsp5fo2sEKgRQezq7z4j00ptlZP0lggs8aV3CK-d-1iBUZrbd6RawuAjaakSBk9jv2d-Rqm4g0-7w2qr91rNYAEv4iwUcq_yI5JgjDg9z7EDTBl9Yhw-jY5eiCHpnAcKyro6lX56A66SLg2KERys5eGrGRzZPJx4MRXvQjtz0oKji_tEkviSzr2ZHPjdJvTZ1401FAWFvQtozqnIWXIZS_We-YKqdimToVoZzpQUHyYoS0gOaxzfU0Aoc9omRceZba0z-tJwYRtM0wsr_4o-7xR6EUKyjnkq7lj3WrJWCcIyt7gevUAZQseHRA0ZSjsEeE5z-uLAialeEE--Cut5OgQO2XNcfNCEq8LwuBsRimv-Y5nouDyf9l5REjMh_C6vMlOvAEBiFe0Z7gvMsPuN-y4ep-tn87Ou-oL4zjzYs-NDJfZ4x0BKtN7otAv7ODHRv1aWSX-yNBYuQuaTStqEbagTNHzgIpIU293DHcSnWbfrRKbZHl5GPZFOrDdx6qyTfBa5hhPMoxNm6IJW2XemzQTMUDxJIYVoscjf5FM2C66Qjdx5eiHW2xNdu3za3D0JR6QD8FZ8v2bbFa7thWaDIX5sRDffqbklU0QOSz2DwFvN0O-c67HyQKucrKrUXRKVhNmBJUlESFwE-yTEGmJyCdgjLshw7TibKL0wjbdzV0vxUbBaWPpb1d698WhIuAH5ExOLILF-IiLy3VjSHt5pk4SQ0fQ3IJzwP0lmhH8SI4FWxyU4rOIw80f7wwNv2r_vAkDiaDCUn9I6dxMJAZj0iLjX6ED2Hlyxs7-1JT9GsV0MKn-n0Kx0CYHE3iqeq2EUZqELYKpx4ZPPg../download [following]\n",
            "--2021-03-25 11:29:38--  https://public.boxcloud.com/d/1/b1!WNXtAQ9rfHz_U5mqLtapzdDzNutTPzE10AuVBSNAykdEry11CdUTJ0KriQcDebkfsf-9GsCH6TwZoQhc3JGh7rBtsl_gBRetiV6WdKyP0UYmmQQOjrPciVMLeR0B1_2boCJlwSWzfkycnbUiXb55jHtZbjX5FBJWXYVBpQW0aJUhB7dFvro82-pZBVReuVA43xoKoLeQotE1wv62X3H_iJt_VjogN9PdNTRbEfvqDHkICPP_N46_3SFQSGHZU6EtdmxajKCT1uIpcuCa2x0NaratkrCwYHFMZHEbPZndKmlF-_3KUbzhWuAmEKUZBWgTSNMdmbND96DGGDYOSRM0ICTSNsu9hRnI0btQY5MhEAbHOOTbZjr1JdRe-xQyv3AKdtYipzZQAWToXJkGaVf8uLqJpV_SfLoLDeof0mGHbCIubSCUc3hz_ThgmlHBfcuzvGxgCjR9HrpbDxkQrrdudoSeDHxSOn2fcDoxZW1BN6nXyFydi7QMdBPBAQOO-e6gGtqlN6I-ak5kcpgRTDYhxUrXUTQ8lmUuSrCfihLGlidA9IPvevW0tKWJeChgIePskswuat-CUYxmVLuyc6cGDTRV4jnO5ngI1Kh9DZsp5fo2sEKgRQezq7z4j00ptlZP0lggs8aV3CK-d-1iBUZrbd6RawuAjaakSBk9jv2d-Rqm4g0-7w2qr91rNYAEv4iwUcq_yI5JgjDg9z7EDTBl9Yhw-jY5eiCHpnAcKyro6lX56A66SLg2KERys5eGrGRzZPJx4MRXvQjtz0oKji_tEkviSzr2ZHPjdJvTZ1401FAWFvQtozqnIWXIZS_We-YKqdimToVoZzpQUHyYoS0gOaxzfU0Aoc9omRceZba0z-tJwYRtM0wsr_4o-7xR6EUKyjnkq7lj3WrJWCcIyt7gevUAZQseHRA0ZSjsEeE5z-uLAialeEE--Cut5OgQO2XNcfNCEq8LwuBsRimv-Y5nouDyf9l5REjMh_C6vMlOvAEBiFe0Z7gvMsPuN-y4ep-tn87Ou-oL4zjzYs-NDJfZ4x0BKtN7otAv7ODHRv1aWSX-yNBYuQuaTStqEbagTNHzgIpIU293DHcSnWbfrRKbZHl5GPZFOrDdx6qyTfBa5hhPMoxNm6IJW2XemzQTMUDxJIYVoscjf5FM2C66Qjdx5eiHW2xNdu3za3D0JR6QD8FZ8v2bbFa7thWaDIX5sRDffqbklU0QOSz2DwFvN0O-c67HyQKucrKrUXRKVhNmBJUlESFwE-yTEGmJyCdgjLshw7TibKL0wjbdzV0vxUbBaWPpb1d698WhIuAH5ExOLILF-IiLy3VjSHt5pk4SQ0fQ3IJzwP0lmhH8SI4FWxyU4rOIw80f7wwNv2r_vAkDiaDCUn9I6dxMJAZj0iLjX6ED2Hlyxs7-1JT9GsV0MKn-n0Kx0CYHE3iqeq2EUZqELYKpx4ZPPg../download\n",
            "Resolving public.boxcloud.com (public.boxcloud.com)... 107.152.26.200\n",
            "Connecting to public.boxcloud.com (public.boxcloud.com)|107.152.26.200|:443... connected.\n",
            "HTTP request sent, awaiting response... 200 OK\n",
            "Length: 9399012334 (8.8G) [application/octet-stream]\n",
            "Saving to: ‘s4lkm5ej7sh4px72vesr17b1gxam4hgy.gz’\n",
            "\n",
            "s4lkm5ej7sh4px72ves 100%[===================>]   8.75G  14.6MB/s    in 11m 31s \n",
            "\n",
            "2021-03-25 11:41:11 (13.0 MB/s) - ‘s4lkm5ej7sh4px72vesr17b1gxam4hgy.gz’ saved [9399012334/9399012334]\n",
            "\n"
          ],
          "name": "stdout"
        }
      ]
    },
    {
      "cell_type": "code",
      "metadata": {
        "id": "DQnKbRe2OqP5"
      },
      "source": [
        "!tar -zxf s4lkm5ej7sh4px72vesr17b1gxam4hgy.gz"
      ],
      "execution_count": 10,
      "outputs": []
    },
    {
      "cell_type": "code",
      "metadata": {
        "colab": {
          "base_uri": "https://localhost:8080/"
        },
        "id": "jOzzuO0qNyID",
        "outputId": "2729e481-5654-4efb-f0c6-0c9c8bea8afc"
      },
      "source": [
        "!ls"
      ],
      "execution_count": 11,
      "outputs": [
        {
          "output_type": "stream",
          "text": [
            "data  s4lkm5ej7sh4px72vesr17b1gxam4hgy.gz  sample_data\n"
          ],
          "name": "stdout"
        }
      ]
    },
    {
      "cell_type": "code",
      "metadata": {
        "colab": {
          "base_uri": "https://localhost:8080/"
        },
        "id": "rbJ1w4VfN6px",
        "outputId": "a835b4aa-a784-442d-a46f-d5ed66929226"
      },
      "source": [
        "!pip3 install --upgrade numpy scipy termcolor"
      ],
      "execution_count": 9,
      "outputs": [
        {
          "output_type": "stream",
          "text": [
            "Requirement already up-to-date: numpy in /usr/local/lib/python3.7/dist-packages (1.20.1)\n",
            "Requirement already up-to-date: scipy in /usr/local/lib/python3.7/dist-packages (1.6.2)\n",
            "Requirement already up-to-date: termcolor in /usr/local/lib/python3.7/dist-packages (1.1.0)\n"
          ],
          "name": "stdout"
        }
      ]
    },
    {
      "cell_type": "code",
      "metadata": {
        "colab": {
          "base_uri": "https://localhost:8080/"
        },
        "id": "M8XVIbcGQ1pE",
        "outputId": "4b4e2e24-5beb-47aa-cdf3-b13d4df0b931"
      },
      "source": [
        "!apt-get install blender"
      ],
      "execution_count": 24,
      "outputs": [
        {
          "output_type": "stream",
          "text": [
            "Reading package lists... Done\n",
            "Building dependency tree       \n",
            "Reading state information... Done\n",
            "The following additional packages will be installed:\n",
            "  blender-data fonts-dejavu fonts-dejavu-core fonts-dejavu-extra libblosc1\n",
            "  libglew2.0 libjemalloc1 liblog4cplus-1.1-9 libopencolorio1v5\n",
            "  libopenimageio1.7 libopenvdb5.0 libraw16 libspnav0 libtinyxml2.6.2v5\n",
            "  libyaml-cpp0.5v5\n",
            "Suggested packages:\n",
            "  glew-utils spacenavd\n",
            "The following NEW packages will be installed:\n",
            "  blender blender-data fonts-dejavu fonts-dejavu-core fonts-dejavu-extra\n",
            "  libblosc1 libglew2.0 libjemalloc1 liblog4cplus-1.1-9 libopencolorio1v5\n",
            "  libopenimageio1.7 libopenvdb5.0 libraw16 libspnav0 libtinyxml2.6.2v5\n",
            "  libyaml-cpp0.5v5\n",
            "0 upgraded, 16 newly installed, 0 to remove and 30 not upgraded.\n",
            "Need to get 45.2 MB of archives.\n",
            "After this operation, 224 MB of additional disk space will be used.\n",
            "Get:1 http://archive.ubuntu.com/ubuntu bionic-updates/universe amd64 blender-data all 2.79.b+dfsg0-1ubuntu1.18.04.1 [12.2 MB]\n",
            "Get:2 http://archive.ubuntu.com/ubuntu bionic/main amd64 fonts-dejavu-core all 2.37-1 [1,041 kB]\n",
            "Get:3 http://archive.ubuntu.com/ubuntu bionic/main amd64 fonts-dejavu-extra all 2.37-1 [1,953 kB]\n",
            "Get:4 http://archive.ubuntu.com/ubuntu bionic/universe amd64 fonts-dejavu all 2.37-1 [3,130 B]\n",
            "Get:5 http://archive.ubuntu.com/ubuntu bionic/universe amd64 libglew2.0 amd64 2.0.0-5 [140 kB]\n",
            "Get:6 http://archive.ubuntu.com/ubuntu bionic/universe amd64 libjemalloc1 amd64 3.6.0-11 [82.4 kB]\n",
            "Get:7 http://archive.ubuntu.com/ubuntu bionic/universe amd64 libtinyxml2.6.2v5 amd64 2.6.2-4 [29.7 kB]\n",
            "Get:8 http://archive.ubuntu.com/ubuntu bionic/universe amd64 libyaml-cpp0.5v5 amd64 0.5.2-4ubuntu1 [150 kB]\n",
            "Get:9 http://archive.ubuntu.com/ubuntu bionic/universe amd64 libopencolorio1v5 amd64 1.1.0~dfsg0-1 [307 kB]\n",
            "Get:10 http://archive.ubuntu.com/ubuntu bionic-updates/main amd64 libraw16 amd64 0.18.8-1ubuntu0.3 [264 kB]\n",
            "Get:11 http://archive.ubuntu.com/ubuntu bionic/universe amd64 libopenimageio1.7 amd64 1.7.17~dfsg0-1ubuntu2 [1,715 kB]\n",
            "Get:12 http://archive.ubuntu.com/ubuntu bionic/universe amd64 libblosc1 amd64 1.14.2+ds1-1 [31.4 kB]\n",
            "Get:13 http://archive.ubuntu.com/ubuntu bionic/universe amd64 liblog4cplus-1.1-9 amd64 1.1.2-3.2 [139 kB]\n",
            "Get:14 http://archive.ubuntu.com/ubuntu bionic/universe amd64 libopenvdb5.0 amd64 5.0.0-1 [556 kB]\n",
            "Get:15 http://archive.ubuntu.com/ubuntu bionic/universe amd64 libspnav0 amd64 0.2.3-1 [8,552 B]\n",
            "Get:16 http://archive.ubuntu.com/ubuntu bionic-updates/universe amd64 blender amd64 2.79.b+dfsg0-1ubuntu1.18.04.1 [26.6 MB]\n",
            "Fetched 45.2 MB in 3s (15.3 MB/s)\n",
            "Selecting previously unselected package blender-data.\n",
            "(Reading database ... 160980 files and directories currently installed.)\n",
            "Preparing to unpack .../00-blender-data_2.79.b+dfsg0-1ubuntu1.18.04.1_all.deb ...\n",
            "Unpacking blender-data (2.79.b+dfsg0-1ubuntu1.18.04.1) ...\n",
            "Selecting previously unselected package fonts-dejavu-core.\n",
            "Preparing to unpack .../01-fonts-dejavu-core_2.37-1_all.deb ...\n",
            "Unpacking fonts-dejavu-core (2.37-1) ...\n",
            "Selecting previously unselected package fonts-dejavu-extra.\n",
            "Preparing to unpack .../02-fonts-dejavu-extra_2.37-1_all.deb ...\n",
            "Unpacking fonts-dejavu-extra (2.37-1) ...\n",
            "Selecting previously unselected package fonts-dejavu.\n",
            "Preparing to unpack .../03-fonts-dejavu_2.37-1_all.deb ...\n",
            "Unpacking fonts-dejavu (2.37-1) ...\n",
            "Selecting previously unselected package libglew2.0:amd64.\n",
            "Preparing to unpack .../04-libglew2.0_2.0.0-5_amd64.deb ...\n",
            "Unpacking libglew2.0:amd64 (2.0.0-5) ...\n",
            "Selecting previously unselected package libjemalloc1.\n",
            "Preparing to unpack .../05-libjemalloc1_3.6.0-11_amd64.deb ...\n",
            "Unpacking libjemalloc1 (3.6.0-11) ...\n",
            "Selecting previously unselected package libtinyxml2.6.2v5:amd64.\n",
            "Preparing to unpack .../06-libtinyxml2.6.2v5_2.6.2-4_amd64.deb ...\n",
            "Unpacking libtinyxml2.6.2v5:amd64 (2.6.2-4) ...\n",
            "Selecting previously unselected package libyaml-cpp0.5v5:amd64.\n",
            "Preparing to unpack .../07-libyaml-cpp0.5v5_0.5.2-4ubuntu1_amd64.deb ...\n",
            "Unpacking libyaml-cpp0.5v5:amd64 (0.5.2-4ubuntu1) ...\n",
            "Selecting previously unselected package libopencolorio1v5.\n",
            "Preparing to unpack .../08-libopencolorio1v5_1.1.0~dfsg0-1_amd64.deb ...\n",
            "Unpacking libopencolorio1v5 (1.1.0~dfsg0-1) ...\n",
            "Selecting previously unselected package libraw16:amd64.\n",
            "Preparing to unpack .../09-libraw16_0.18.8-1ubuntu0.3_amd64.deb ...\n",
            "Unpacking libraw16:amd64 (0.18.8-1ubuntu0.3) ...\n",
            "Selecting previously unselected package libopenimageio1.7.\n",
            "Preparing to unpack .../10-libopenimageio1.7_1.7.17~dfsg0-1ubuntu2_amd64.deb ...\n",
            "Unpacking libopenimageio1.7 (1.7.17~dfsg0-1ubuntu2) ...\n",
            "Selecting previously unselected package libblosc1.\n",
            "Preparing to unpack .../11-libblosc1_1.14.2+ds1-1_amd64.deb ...\n",
            "Unpacking libblosc1 (1.14.2+ds1-1) ...\n",
            "Selecting previously unselected package liblog4cplus-1.1-9.\n",
            "Preparing to unpack .../12-liblog4cplus-1.1-9_1.1.2-3.2_amd64.deb ...\n",
            "Unpacking liblog4cplus-1.1-9 (1.1.2-3.2) ...\n",
            "Selecting previously unselected package libopenvdb5.0.\n",
            "Preparing to unpack .../13-libopenvdb5.0_5.0.0-1_amd64.deb ...\n",
            "Unpacking libopenvdb5.0 (5.0.0-1) ...\n",
            "Selecting previously unselected package libspnav0.\n",
            "Preparing to unpack .../14-libspnav0_0.2.3-1_amd64.deb ...\n",
            "Unpacking libspnav0 (0.2.3-1) ...\n",
            "Selecting previously unselected package blender.\n",
            "Preparing to unpack .../15-blender_2.79.b+dfsg0-1ubuntu1.18.04.1_amd64.deb ...\n",
            "Unpacking blender (2.79.b+dfsg0-1ubuntu1.18.04.1) ...\n",
            "Setting up libblosc1 (1.14.2+ds1-1) ...\n",
            "Setting up libspnav0 (0.2.3-1) ...\n",
            "Setting up libtinyxml2.6.2v5:amd64 (2.6.2-4) ...\n",
            "Setting up libjemalloc1 (3.6.0-11) ...\n",
            "Setting up fonts-dejavu-core (2.37-1) ...\n",
            "Setting up liblog4cplus-1.1-9 (1.1.2-3.2) ...\n",
            "Setting up blender-data (2.79.b+dfsg0-1ubuntu1.18.04.1) ...\n",
            "Setting up libglew2.0:amd64 (2.0.0-5) ...\n",
            "Setting up libyaml-cpp0.5v5:amd64 (0.5.2-4ubuntu1) ...\n",
            "Setting up fonts-dejavu-extra (2.37-1) ...\n",
            "Setting up libraw16:amd64 (0.18.8-1ubuntu0.3) ...\n",
            "Setting up libopenvdb5.0 (5.0.0-1) ...\n",
            "Setting up fonts-dejavu (2.37-1) ...\n",
            "Setting up libopencolorio1v5 (1.1.0~dfsg0-1) ...\n",
            "Setting up libopenimageio1.7 (1.7.17~dfsg0-1ubuntu2) ...\n",
            "Setting up blender (2.79.b+dfsg0-1ubuntu1.18.04.1) ...\n",
            "Processing triggers for man-db (2.8.3-2ubuntu0.1) ...\n",
            "Processing triggers for hicolor-icon-theme (0.17-2) ...\n",
            "Processing triggers for fontconfig (2.12.6-0ubuntu2) ...\n",
            "Processing triggers for mime-support (3.60ubuntu1) ...\n",
            "Processing triggers for libc-bin (2.27-3ubuntu1.2) ...\n",
            "/sbin/ldconfig.real: /usr/local/lib/python3.7/dist-packages/ideep4py/lib/libmkldnn.so.0 is not a symbolic link\n",
            "\n"
          ],
          "name": "stdout"
        }
      ]
    },
    {
      "cell_type": "code",
      "metadata": {
        "colab": {
          "base_uri": "https://localhost:8080/"
        },
        "id": "JY6qJYqnRogv",
        "outputId": "3cfef8ca-7aab-402a-a794-de3186e4f1f2"
      },
      "source": [
        "!apt-get install libopenexr-dev"
      ],
      "execution_count": 26,
      "outputs": [
        {
          "output_type": "stream",
          "text": [
            "Reading package lists... Done\n",
            "Building dependency tree       \n",
            "Reading state information... Done\n",
            "libopenexr-dev is already the newest version (2.2.0-11.1ubuntu1.4).\n",
            "libopenexr-dev set to manually installed.\n",
            "0 upgraded, 0 newly installed, 0 to remove and 30 not upgraded.\n"
          ],
          "name": "stdout"
        }
      ]
    },
    {
      "cell_type": "code",
      "metadata": {
        "colab": {
          "base_uri": "https://localhost:8080/"
        },
        "id": "yOtVb_xENu_L",
        "outputId": "3c0bf328-9bb6-47fe-a554-008636a118d1"
      },
      "source": [
        "!git clone https://github.com/chenhsuanlin/3D-point-cloud-generation.git"
      ],
      "execution_count": 12,
      "outputs": [
        {
          "output_type": "stream",
          "text": [
            "Cloning into '3D-point-cloud-generation'...\n",
            "remote: Enumerating objects: 99, done.\u001b[K\n",
            "remote: Total 99 (delta 0), reused 0 (delta 0), pack-reused 99\u001b[K\n",
            "Unpacking objects: 100% (99/99), done.\n"
          ],
          "name": "stdout"
        }
      ]
    },
    {
      "cell_type": "code",
      "metadata": {
        "colab": {
          "base_uri": "https://localhost:8080/"
        },
        "id": "jJ5k4XBbQGqJ",
        "outputId": "a8775a2d-4ec4-445c-8a78-50ebe024c2d3"
      },
      "source": [
        "!cd data\n",
        "!pwd\n",
        "!ls"
      ],
      "execution_count": 18,
      "outputs": [
        {
          "output_type": "stream",
          "text": [
            "/content\n",
            "3D-point-cloud-generation  s4lkm5ej7sh4px72vesr17b1gxam4hgy.gz\n",
            "data\t\t\t   sample_data\n"
          ],
          "name": "stdout"
        }
      ]
    },
    {
      "cell_type": "code",
      "metadata": {
        "colab": {
          "base_uri": "https://localhost:8080/"
        },
        "id": "i1FyNndDQLLI",
        "outputId": "68679f78-57bd-4d60-c50e-9f8611a58231"
      },
      "source": [
        "%cd 3D-point-cloud-generation/densify\n",
        "!ls"
      ],
      "execution_count": 21,
      "outputs": [
        {
          "output_type": "stream",
          "text": [
            "/content/3D-point-cloud-generation/densify\n",
            "03001627.list  densify.py  example.png\trun.sh\tutil.py\n"
          ],
          "name": "stdout"
        }
      ]
    },
    {
      "cell_type": "code",
      "metadata": {
        "colab": {
          "base_uri": "https://localhost:8080/"
        },
        "id": "Q9L2BryIR-Wj",
        "outputId": "bf32ac0d-0c63-4d78-d06d-0c171fabc3ee"
      },
      "source": [
        "!./run.sh 03001627"
      ],
      "execution_count": 28,
      "outputs": [
        {
          "output_type": "stream",
          "text": [
            "Traceback (most recent call last):\n",
            "  File \"densify.py\", line 29, in <module>\n",
            "    V,E,F = util.parseObj(shape_file)\n",
            "  File \"/content/3D-point-cloud-generation/densify/util.py\", line 6, in parseObj\n",
            "    with open(fname) as file:\n",
            "FileNotFoundError: [Errno 2] No such file or directory: '/dataset/ShapeNetCore.v2/03001627/1006be65e7bc937e9141f9b58470d646/models/model_normalized.obj'\n"
          ],
          "name": "stdout"
        }
      ]
    }
  ]
}